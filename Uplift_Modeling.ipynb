{
  "nbformat": 4,
  "nbformat_minor": 0,
  "metadata": {
    "colab": {
      "name": "Uplift Modeling.ipynb",
      "provenance": []
    },
    "kernelspec": {
      "name": "python3",
      "display_name": "Python 3"
    },
    "language_info": {
      "name": "python"
    }
  },
  "cells": [
    {
      "cell_type": "markdown",
      "metadata": {
        "id": "7GTXtevUqSr4"
      },
      "source": [
        "* Uplift Modeling is used to predict and target the right customers.\n",
        "* It is a predictive modeling technique that directly models the incremental impact of a treatment (such as a direct marketing action) on an individual's behaviour."
      ]
    },
    {
      "cell_type": "code",
      "metadata": {
        "id": "EGSDQKCvqHAm"
      },
      "source": [
        "# import necessary libraries\n",
        "import numpy as np\n",
        "import matplotlib.pyplot as plt\n",
        "import pandas as pd\n",
        "import seaborn as sns\n",
        "import math\n",
        "import os\n",
        "import warnings\n",
        "warnings.filterwarnings('ignore')"
      ],
      "execution_count": null,
      "outputs": []
    },
    {
      "cell_type": "code",
      "metadata": {
        "id": "lgoOa9XlrAmJ"
      },
      "source": [
        "df_model = pd.read_csv('/content/data.csv')"
      ],
      "execution_count": null,
      "outputs": []
    },
    {
      "cell_type": "code",
      "metadata": {
        "colab": {
          "base_uri": "https://localhost:8080/",
          "height": 278
        },
        "id": "IYe0IveQrebN",
        "outputId": "7154633f-0300-43e1-a0e2-243d64b2543a"
      },
      "source": [
        "df_model.head(5)"
      ],
      "execution_count": null,
      "outputs": [
        {
          "output_type": "execute_result",
          "data": {
            "text/html": [
              "<div>\n",
              "<style scoped>\n",
              "    .dataframe tbody tr th:only-of-type {\n",
              "        vertical-align: middle;\n",
              "    }\n",
              "\n",
              "    .dataframe tbody tr th {\n",
              "        vertical-align: top;\n",
              "    }\n",
              "\n",
              "    .dataframe thead th {\n",
              "        text-align: right;\n",
              "    }\n",
              "</style>\n",
              "<table border=\"1\" class=\"dataframe\">\n",
              "  <thead>\n",
              "    <tr style=\"text-align: right;\">\n",
              "      <th></th>\n",
              "      <th>recency</th>\n",
              "      <th>history</th>\n",
              "      <th>used_discount</th>\n",
              "      <th>used_bogo</th>\n",
              "      <th>zip_code</th>\n",
              "      <th>is_referral</th>\n",
              "      <th>channel</th>\n",
              "      <th>offer</th>\n",
              "      <th>conversion</th>\n",
              "    </tr>\n",
              "  </thead>\n",
              "  <tbody>\n",
              "    <tr>\n",
              "      <th>0</th>\n",
              "      <td>10</td>\n",
              "      <td>142.44</td>\n",
              "      <td>1</td>\n",
              "      <td>0</td>\n",
              "      <td>Surburban</td>\n",
              "      <td>0</td>\n",
              "      <td>Phone</td>\n",
              "      <td>Buy One Get One</td>\n",
              "      <td>0</td>\n",
              "    </tr>\n",
              "    <tr>\n",
              "      <th>1</th>\n",
              "      <td>6</td>\n",
              "      <td>329.08</td>\n",
              "      <td>1</td>\n",
              "      <td>1</td>\n",
              "      <td>Rural</td>\n",
              "      <td>1</td>\n",
              "      <td>Web</td>\n",
              "      <td>No Offer</td>\n",
              "      <td>0</td>\n",
              "    </tr>\n",
              "    <tr>\n",
              "      <th>2</th>\n",
              "      <td>7</td>\n",
              "      <td>180.65</td>\n",
              "      <td>0</td>\n",
              "      <td>1</td>\n",
              "      <td>Surburban</td>\n",
              "      <td>1</td>\n",
              "      <td>Web</td>\n",
              "      <td>Buy One Get One</td>\n",
              "      <td>0</td>\n",
              "    </tr>\n",
              "    <tr>\n",
              "      <th>3</th>\n",
              "      <td>9</td>\n",
              "      <td>675.83</td>\n",
              "      <td>1</td>\n",
              "      <td>0</td>\n",
              "      <td>Rural</td>\n",
              "      <td>1</td>\n",
              "      <td>Web</td>\n",
              "      <td>Discount</td>\n",
              "      <td>0</td>\n",
              "    </tr>\n",
              "    <tr>\n",
              "      <th>4</th>\n",
              "      <td>2</td>\n",
              "      <td>45.34</td>\n",
              "      <td>1</td>\n",
              "      <td>0</td>\n",
              "      <td>Urban</td>\n",
              "      <td>0</td>\n",
              "      <td>Web</td>\n",
              "      <td>Buy One Get One</td>\n",
              "      <td>0</td>\n",
              "    </tr>\n",
              "  </tbody>\n",
              "</table>\n",
              "</div>"
            ],
            "text/plain": [
              "   recency  history  used_discount  ...  channel            offer  conversion\n",
              "0       10   142.44              1  ...    Phone  Buy One Get One           0\n",
              "1        6   329.08              1  ...      Web         No Offer           0\n",
              "2        7   180.65              0  ...      Web  Buy One Get One           0\n",
              "3        9   675.83              1  ...      Web         Discount           0\n",
              "4        2    45.34              1  ...      Web  Buy One Get One           0\n",
              "\n",
              "[5 rows x 9 columns]"
            ]
          },
          "metadata": {},
          "execution_count": 61
        }
      ]
    },
    {
      "cell_type": "code",
      "metadata": {
        "colab": {
          "base_uri": "https://localhost:8080/"
        },
        "id": "nqNE2MmCrfit",
        "outputId": "9bb2c5bb-1fa5-41db-d377-80db5efb3470"
      },
      "source": [
        "# check for missing values\n",
        "df_model.info()"
      ],
      "execution_count": null,
      "outputs": [
        {
          "output_type": "stream",
          "name": "stdout",
          "text": [
            "<class 'pandas.core.frame.DataFrame'>\n",
            "RangeIndex: 64000 entries, 0 to 63999\n",
            "Data columns (total 9 columns):\n",
            " #   Column         Non-Null Count  Dtype  \n",
            "---  ------         --------------  -----  \n",
            " 0   recency        64000 non-null  int64  \n",
            " 1   history        64000 non-null  float64\n",
            " 2   used_discount  64000 non-null  int64  \n",
            " 3   used_bogo      64000 non-null  int64  \n",
            " 4   zip_code       64000 non-null  object \n",
            " 5   is_referral    64000 non-null  int64  \n",
            " 6   channel        64000 non-null  object \n",
            " 7   offer          64000 non-null  object \n",
            " 8   conversion     64000 non-null  int64  \n",
            "dtypes: float64(1), int64(5), object(3)\n",
            "memory usage: 4.4+ MB\n"
          ]
        }
      ]
    },
    {
      "cell_type": "code",
      "metadata": {
        "colab": {
          "base_uri": "https://localhost:8080/",
          "height": 175
        },
        "id": "Ud9FXlvSrfW7",
        "outputId": "b2a77e7d-97bd-4c15-9043-ef91b4d50b52"
      },
      "source": [
        "df_model.describe(include = np.object)"
      ],
      "execution_count": null,
      "outputs": [
        {
          "output_type": "execute_result",
          "data": {
            "text/html": [
              "<div>\n",
              "<style scoped>\n",
              "    .dataframe tbody tr th:only-of-type {\n",
              "        vertical-align: middle;\n",
              "    }\n",
              "\n",
              "    .dataframe tbody tr th {\n",
              "        vertical-align: top;\n",
              "    }\n",
              "\n",
              "    .dataframe thead th {\n",
              "        text-align: right;\n",
              "    }\n",
              "</style>\n",
              "<table border=\"1\" class=\"dataframe\">\n",
              "  <thead>\n",
              "    <tr style=\"text-align: right;\">\n",
              "      <th></th>\n",
              "      <th>zip_code</th>\n",
              "      <th>channel</th>\n",
              "      <th>offer</th>\n",
              "    </tr>\n",
              "  </thead>\n",
              "  <tbody>\n",
              "    <tr>\n",
              "      <th>count</th>\n",
              "      <td>64000</td>\n",
              "      <td>64000</td>\n",
              "      <td>64000</td>\n",
              "    </tr>\n",
              "    <tr>\n",
              "      <th>unique</th>\n",
              "      <td>3</td>\n",
              "      <td>3</td>\n",
              "      <td>3</td>\n",
              "    </tr>\n",
              "    <tr>\n",
              "      <th>top</th>\n",
              "      <td>Surburban</td>\n",
              "      <td>Web</td>\n",
              "      <td>Buy One Get One</td>\n",
              "    </tr>\n",
              "    <tr>\n",
              "      <th>freq</th>\n",
              "      <td>28776</td>\n",
              "      <td>28217</td>\n",
              "      <td>21387</td>\n",
              "    </tr>\n",
              "  </tbody>\n",
              "</table>\n",
              "</div>"
            ],
            "text/plain": [
              "         zip_code channel            offer\n",
              "count       64000   64000            64000\n",
              "unique          3       3                3\n",
              "top     Surburban     Web  Buy One Get One\n",
              "freq        28776   28217            21387"
            ]
          },
          "metadata": {},
          "execution_count": 63
        }
      ]
    },
    {
      "cell_type": "code",
      "metadata": {
        "colab": {
          "base_uri": "https://localhost:8080/"
        },
        "id": "Zx9pVEyxugJk",
        "outputId": "a9022c5d-3e43-46fa-e7e5-83b366e7a439"
      },
      "source": [
        "# Checking unique object data\n",
        "object_cols = [col for col in df_model.columns if df_model[col].dtype == \"object\"]\n",
        "for obj in object_cols:\n",
        "    print('\\n', obj)\n",
        "    for unique in df_model[obj].unique():\n",
        "        print(\"{} {}\".format(unique,sum(df_model[obj] == unique)))"
      ],
      "execution_count": null,
      "outputs": [
        {
          "output_type": "stream",
          "name": "stdout",
          "text": [
            "\n",
            " zip_code\n",
            "Surburban 28776\n",
            "Rural 9563\n",
            "Urban 25661\n",
            "\n",
            " channel\n",
            "Phone 28021\n",
            "Web 28217\n",
            "Multichannel 7762\n",
            "\n",
            " offer\n",
            "Buy One Get One 21387\n",
            "No Offer 21306\n",
            "Discount 21307\n"
          ]
        }
      ]
    },
    {
      "cell_type": "markdown",
      "metadata": {
        "id": "uGAHVTs6vxgm"
      },
      "source": [
        "# Data Preprocessing"
      ]
    },
    {
      "cell_type": "code",
      "metadata": {
        "id": "amFLD0cLvKOh"
      },
      "source": [
        "# Rename target column\n",
        "df_model = df_model.rename(columns={'conversion': 'target'})\n",
        "# Rename & Label encode treatment column\n",
        "df_model = df_model.rename(columns={'offer': 'treatment'})\n",
        "df_model.treatment = df_model.treatment.map({'No Offer': 0, 'Buy One Get One': -1, 'Discount': 1})"
      ],
      "execution_count": null,
      "outputs": []
    },
    {
      "cell_type": "code",
      "metadata": {
        "id": "L3g4f4wLzGRg"
      },
      "source": [
        "# One-Hot Encoding:\n",
        "df_model = pd.get_dummies(df_model)"
      ],
      "execution_count": null,
      "outputs": []
    },
    {
      "cell_type": "code",
      "metadata": {
        "colab": {
          "base_uri": "https://localhost:8080/",
          "height": 226
        },
        "id": "y8NCpspFzMZ4",
        "outputId": "f277641c-9ea9-494a-fcde-dc9f6f3e4009"
      },
      "source": [
        "df_model.head()"
      ],
      "execution_count": null,
      "outputs": [
        {
          "output_type": "execute_result",
          "data": {
            "text/html": [
              "<div>\n",
              "<style scoped>\n",
              "    .dataframe tbody tr th:only-of-type {\n",
              "        vertical-align: middle;\n",
              "    }\n",
              "\n",
              "    .dataframe tbody tr th {\n",
              "        vertical-align: top;\n",
              "    }\n",
              "\n",
              "    .dataframe thead th {\n",
              "        text-align: right;\n",
              "    }\n",
              "</style>\n",
              "<table border=\"1\" class=\"dataframe\">\n",
              "  <thead>\n",
              "    <tr style=\"text-align: right;\">\n",
              "      <th></th>\n",
              "      <th>recency</th>\n",
              "      <th>history</th>\n",
              "      <th>used_discount</th>\n",
              "      <th>used_bogo</th>\n",
              "      <th>is_referral</th>\n",
              "      <th>treatment</th>\n",
              "      <th>target</th>\n",
              "      <th>zip_code_Rural</th>\n",
              "      <th>zip_code_Surburban</th>\n",
              "      <th>zip_code_Urban</th>\n",
              "      <th>channel_Multichannel</th>\n",
              "      <th>channel_Phone</th>\n",
              "      <th>channel_Web</th>\n",
              "    </tr>\n",
              "  </thead>\n",
              "  <tbody>\n",
              "    <tr>\n",
              "      <th>0</th>\n",
              "      <td>10</td>\n",
              "      <td>142.44</td>\n",
              "      <td>1</td>\n",
              "      <td>0</td>\n",
              "      <td>0</td>\n",
              "      <td>-1</td>\n",
              "      <td>0</td>\n",
              "      <td>0</td>\n",
              "      <td>1</td>\n",
              "      <td>0</td>\n",
              "      <td>0</td>\n",
              "      <td>1</td>\n",
              "      <td>0</td>\n",
              "    </tr>\n",
              "    <tr>\n",
              "      <th>1</th>\n",
              "      <td>6</td>\n",
              "      <td>329.08</td>\n",
              "      <td>1</td>\n",
              "      <td>1</td>\n",
              "      <td>1</td>\n",
              "      <td>0</td>\n",
              "      <td>0</td>\n",
              "      <td>1</td>\n",
              "      <td>0</td>\n",
              "      <td>0</td>\n",
              "      <td>0</td>\n",
              "      <td>0</td>\n",
              "      <td>1</td>\n",
              "    </tr>\n",
              "    <tr>\n",
              "      <th>2</th>\n",
              "      <td>7</td>\n",
              "      <td>180.65</td>\n",
              "      <td>0</td>\n",
              "      <td>1</td>\n",
              "      <td>1</td>\n",
              "      <td>-1</td>\n",
              "      <td>0</td>\n",
              "      <td>0</td>\n",
              "      <td>1</td>\n",
              "      <td>0</td>\n",
              "      <td>0</td>\n",
              "      <td>0</td>\n",
              "      <td>1</td>\n",
              "    </tr>\n",
              "    <tr>\n",
              "      <th>3</th>\n",
              "      <td>9</td>\n",
              "      <td>675.83</td>\n",
              "      <td>1</td>\n",
              "      <td>0</td>\n",
              "      <td>1</td>\n",
              "      <td>1</td>\n",
              "      <td>0</td>\n",
              "      <td>1</td>\n",
              "      <td>0</td>\n",
              "      <td>0</td>\n",
              "      <td>0</td>\n",
              "      <td>0</td>\n",
              "      <td>1</td>\n",
              "    </tr>\n",
              "    <tr>\n",
              "      <th>4</th>\n",
              "      <td>2</td>\n",
              "      <td>45.34</td>\n",
              "      <td>1</td>\n",
              "      <td>0</td>\n",
              "      <td>0</td>\n",
              "      <td>-1</td>\n",
              "      <td>0</td>\n",
              "      <td>0</td>\n",
              "      <td>0</td>\n",
              "      <td>1</td>\n",
              "      <td>0</td>\n",
              "      <td>0</td>\n",
              "      <td>1</td>\n",
              "    </tr>\n",
              "  </tbody>\n",
              "</table>\n",
              "</div>"
            ],
            "text/plain": [
              "   recency  history  ...  channel_Phone  channel_Web\n",
              "0       10   142.44  ...              1            0\n",
              "1        6   329.08  ...              0            1\n",
              "2        7   180.65  ...              0            1\n",
              "3        9   675.83  ...              0            1\n",
              "4        2    45.34  ...              0            1\n",
              "\n",
              "[5 rows x 13 columns]"
            ]
          },
          "metadata": {},
          "execution_count": 67
        }
      ]
    },
    {
      "cell_type": "code",
      "metadata": {
        "id": "JLSRVrKazNwy"
      },
      "source": [
        "# Split data with bogo and discount\n",
        "df_model_bogo = df_model.copy().loc[df_model.treatment <=0].reset_index(drop=True)\n",
        "df_model_discount = df_model.copy().loc[df_model.treatment >=0].reset_index(drop=True)"
      ],
      "execution_count": null,
      "outputs": []
    },
    {
      "cell_type": "markdown",
      "metadata": {
        "id": "QPC7MH0oz-qS"
      },
      "source": [
        "## Target Class Declaration\n",
        "* Control Non-Responders (CN) - Customers that don't make a purchase without an offer (value = 0)\n",
        "* Control Responders (CR) - Customers that make a purchase without an offer (value = 1)\n",
        "* Treatment Non-Responders (TN) - Customers that don't make a purchase and receive an offer\n",
        "* Treatment Responders (TR) - Customers that make a purchase and receive an offer (value = 3)"
      ]
    },
    {
      "cell_type": "code",
      "metadata": {
        "id": "lWOU6ZuJz8yu"
      },
      "source": [
        "# Function to declare Target Class\n",
        "def declare_tc(df:pd.DataFrame):\n",
        "    \"\"\"Declare target class\n",
        "    \"\"\"\n",
        "    #CN:\n",
        "    df['target_class'] = 0 \n",
        "    #CR:\n",
        "    df.loc[(df.treatment == 0) & (df.target != 0),'target_class'] = 1 \n",
        "    #TN:\n",
        "    df.loc[(df.treatment != 0) & (df.target == 0),'target_class'] = 2 \n",
        "    #TR:\n",
        "    df.loc[(df.treatment != 0) & (df.target != 0),'target_class'] = 3 \n",
        "    return df"
      ],
      "execution_count": null,
      "outputs": []
    },
    {
      "cell_type": "code",
      "metadata": {
        "id": "os1otTcxz8rJ"
      },
      "source": [
        "# run the functions for each treatment\n",
        "df_model_bogo = declare_tc(df_model_bogo)\n",
        "df_model_discount = declare_tc(df_model_discount)"
      ],
      "execution_count": null,
      "outputs": []
    },
    {
      "cell_type": "markdown",
      "metadata": {
        "id": "dF08CoSE3OnK"
      },
      "source": [
        "## Uplift Score\n",
        "Uplift Score = P(TR)/P(T) + P(CN)/P(C) - P(TN)/P(T) - P(CR)/P(C)\n",
        "\n",
        "* where T denotes the total treated population (TR + TN)\n",
        "* and C denotes the total untreated population CR+CN"
      ]
    },
    {
      "cell_type": "code",
      "metadata": {
        "id": "Scn9AkE622-d"
      },
      "source": [
        "# Functions for Uplift\n",
        "from sklearn.model_selection import train_test_split\n",
        "import xgboost as xgb\n",
        "def uplift_split(df_model:pd.DataFrame):\n",
        "    \"\"\"Train-Test Split\n",
        "    \"\"\"\n",
        "    X = df_model.drop(['target','target_class'],axis=1)\n",
        "    y = df_model.target_class\n",
        "    X_train, X_test, \\\n",
        "    y_train, y_test  = train_test_split(X,\n",
        "                                       y,\n",
        "                                       test_size=0.3,\n",
        "                                       random_state=42,\n",
        "                                       stratify=df_model['treatment'])\n",
        "    return X_train,X_test, y_train, y_test\n",
        "\n"
      ],
      "execution_count": null,
      "outputs": []
    },
    {
      "cell_type": "code",
      "metadata": {
        "id": "GJZT3xVK5Wbw"
      },
      "source": [
        "def uplift_model(X_train:pd.DataFrame,\n",
        "                 X_test:pd.DataFrame,\n",
        "                 y_train:pd.DataFrame,\n",
        "                 y_test:pd.DataFrame):\n",
        "    \"\"\"Using XGB to get the uplift score\n",
        "    \"\"\"\n",
        "    # Create new dataframe\n",
        "    result = pd.DataFrame(X_test).copy()    \n",
        "    # Fit the model\n",
        "    uplift_model \\\n",
        "    = xgb.XGBClassifier().fit(X_train.drop('treatment', axis=1), y_train)\n",
        "\n",
        "    # Predict using test-data\n",
        "    uplift_proba \\\n",
        "    = uplift_model.predict_proba(X_test.drop('treatment', axis=1))\n",
        "    result['proba_CN'] = uplift_proba[:,0] \n",
        "    result['proba_CR'] = uplift_proba[:,1] \n",
        "    result['proba_TN'] = uplift_proba[:,2] \n",
        "    result['proba_TR'] = uplift_proba[:,3]\n",
        "    result['uplift_score'] = result.eval('\\\n",
        "    proba_CN/(proba_CN+proba_CR) \\\n",
        "    + proba_TR/(proba_TN+proba_TR) \\\n",
        "    - proba_TN/(proba_TN+proba_TR) \\\n",
        "    - proba_CR/(proba_CN+proba_CR)')  \n",
        "    # Put the result \n",
        "    result['target_class'] = y_test\n",
        "    return result\n"
      ],
      "execution_count": null,
      "outputs": []
    },
    {
      "cell_type": "code",
      "metadata": {
        "id": "NNmriMMD_IH7"
      },
      "source": [
        "def uplift(df_model:pd.DataFrame):\n",
        "    \"\"\"Combine the split and Modeling function\n",
        "    \"\"\"\n",
        "    X_train, X_test, y_train, y_test = uplift_split(df_model)\n",
        "    result = uplift_model(X_train, X_test, y_train, y_test)\n",
        "    return result"
      ],
      "execution_count": null,
      "outputs": []
    },
    {
      "cell_type": "code",
      "metadata": {
        "id": "ZB-yQqe_A3vi"
      },
      "source": [
        "# Run the uplift function\n",
        "bogo_uplift = uplift(df_model_bogo)\n",
        "discount_uplift = uplift(df_model_discount)"
      ],
      "execution_count": null,
      "outputs": []
    },
    {
      "cell_type": "code",
      "metadata": {
        "colab": {
          "base_uri": "https://localhost:8080/",
          "height": 226
        },
        "id": "EwA4MO8_BHqv",
        "outputId": "b28a1612-9223-468d-c0ab-eb08c5856d47"
      },
      "source": [
        "bogo_uplift.head()"
      ],
      "execution_count": null,
      "outputs": [
        {
          "output_type": "execute_result",
          "data": {
            "text/html": [
              "<div>\n",
              "<style scoped>\n",
              "    .dataframe tbody tr th:only-of-type {\n",
              "        vertical-align: middle;\n",
              "    }\n",
              "\n",
              "    .dataframe tbody tr th {\n",
              "        vertical-align: top;\n",
              "    }\n",
              "\n",
              "    .dataframe thead th {\n",
              "        text-align: right;\n",
              "    }\n",
              "</style>\n",
              "<table border=\"1\" class=\"dataframe\">\n",
              "  <thead>\n",
              "    <tr style=\"text-align: right;\">\n",
              "      <th></th>\n",
              "      <th>recency</th>\n",
              "      <th>history</th>\n",
              "      <th>used_discount</th>\n",
              "      <th>used_bogo</th>\n",
              "      <th>is_referral</th>\n",
              "      <th>treatment</th>\n",
              "      <th>zip_code_Rural</th>\n",
              "      <th>zip_code_Surburban</th>\n",
              "      <th>zip_code_Urban</th>\n",
              "      <th>channel_Multichannel</th>\n",
              "      <th>channel_Phone</th>\n",
              "      <th>channel_Web</th>\n",
              "      <th>proba_CN</th>\n",
              "      <th>proba_CR</th>\n",
              "      <th>proba_TN</th>\n",
              "      <th>proba_TR</th>\n",
              "      <th>uplift_score</th>\n",
              "      <th>target_class</th>\n",
              "    </tr>\n",
              "  </thead>\n",
              "  <tbody>\n",
              "    <tr>\n",
              "      <th>20765</th>\n",
              "      <td>10</td>\n",
              "      <td>211.48</td>\n",
              "      <td>1</td>\n",
              "      <td>0</td>\n",
              "      <td>0</td>\n",
              "      <td>0</td>\n",
              "      <td>0</td>\n",
              "      <td>1</td>\n",
              "      <td>0</td>\n",
              "      <td>1</td>\n",
              "      <td>0</td>\n",
              "      <td>0</td>\n",
              "      <td>0.451516</td>\n",
              "      <td>0.052382</td>\n",
              "      <td>0.451415</td>\n",
              "      <td>0.044688</td>\n",
              "      <td>-0.027751</td>\n",
              "      <td>1</td>\n",
              "    </tr>\n",
              "    <tr>\n",
              "      <th>7222</th>\n",
              "      <td>10</td>\n",
              "      <td>140.50</td>\n",
              "      <td>1</td>\n",
              "      <td>0</td>\n",
              "      <td>0</td>\n",
              "      <td>-1</td>\n",
              "      <td>0</td>\n",
              "      <td>0</td>\n",
              "      <td>1</td>\n",
              "      <td>0</td>\n",
              "      <td>1</td>\n",
              "      <td>0</td>\n",
              "      <td>0.474401</td>\n",
              "      <td>0.038627</td>\n",
              "      <td>0.448462</td>\n",
              "      <td>0.038510</td>\n",
              "      <td>0.007578</td>\n",
              "      <td>2</td>\n",
              "    </tr>\n",
              "    <tr>\n",
              "      <th>6434</th>\n",
              "      <td>4</td>\n",
              "      <td>76.25</td>\n",
              "      <td>1</td>\n",
              "      <td>0</td>\n",
              "      <td>0</td>\n",
              "      <td>-1</td>\n",
              "      <td>0</td>\n",
              "      <td>1</td>\n",
              "      <td>0</td>\n",
              "      <td>0</td>\n",
              "      <td>1</td>\n",
              "      <td>0</td>\n",
              "      <td>0.450209</td>\n",
              "      <td>0.051294</td>\n",
              "      <td>0.441745</td>\n",
              "      <td>0.056751</td>\n",
              "      <td>0.023128</td>\n",
              "      <td>2</td>\n",
              "    </tr>\n",
              "    <tr>\n",
              "      <th>32666</th>\n",
              "      <td>5</td>\n",
              "      <td>29.99</td>\n",
              "      <td>0</td>\n",
              "      <td>1</td>\n",
              "      <td>0</td>\n",
              "      <td>-1</td>\n",
              "      <td>1</td>\n",
              "      <td>0</td>\n",
              "      <td>0</td>\n",
              "      <td>0</td>\n",
              "      <td>1</td>\n",
              "      <td>0</td>\n",
              "      <td>0.442699</td>\n",
              "      <td>0.074099</td>\n",
              "      <td>0.383552</td>\n",
              "      <td>0.099649</td>\n",
              "      <td>0.125692</td>\n",
              "      <td>2</td>\n",
              "    </tr>\n",
              "    <tr>\n",
              "      <th>24212</th>\n",
              "      <td>9</td>\n",
              "      <td>248.28</td>\n",
              "      <td>1</td>\n",
              "      <td>0</td>\n",
              "      <td>0</td>\n",
              "      <td>-1</td>\n",
              "      <td>0</td>\n",
              "      <td>1</td>\n",
              "      <td>0</td>\n",
              "      <td>0</td>\n",
              "      <td>0</td>\n",
              "      <td>1</td>\n",
              "      <td>0.471690</td>\n",
              "      <td>0.073893</td>\n",
              "      <td>0.400803</td>\n",
              "      <td>0.053615</td>\n",
              "      <td>-0.034905</td>\n",
              "      <td>3</td>\n",
              "    </tr>\n",
              "  </tbody>\n",
              "</table>\n",
              "</div>"
            ],
            "text/plain": [
              "       recency  history  used_discount  ...  proba_TR  uplift_score  target_class\n",
              "20765       10   211.48              1  ...  0.044688     -0.027751             1\n",
              "7222        10   140.50              1  ...  0.038510      0.007578             2\n",
              "6434         4    76.25              1  ...  0.056751      0.023128             2\n",
              "32666        5    29.99              0  ...  0.099649      0.125692             2\n",
              "24212        9   248.28              1  ...  0.053615     -0.034905             3\n",
              "\n",
              "[5 rows x 18 columns]"
            ]
          },
          "metadata": {},
          "execution_count": 76
        }
      ]
    },
    {
      "cell_type": "markdown",
      "metadata": {
        "id": "aB3bwC0jES6T"
      },
      "source": [
        "# Evaluation QINI Curve\n",
        "\n",
        "The QINI uplift values can be calculated as QINI = (TR/T) - (CR/C)."
      ]
    },
    {
      "cell_type": "code",
      "metadata": {
        "id": "ozArtAU4Czta"
      },
      "source": [
        "def qini_rank(uplift: pd.DataFrame):\n",
        "  \"\"\"Rank the data by the uplift score\"\"\"\n",
        "\n",
        "  # Create new dataframe\n",
        "\n",
        "  ranked = pd.DataFrame({'n' : [], 'target_class' : []})\n",
        "  ranked['target_class'] = uplift['target_class']\n",
        "  ranked['uplift_score'] = uplift['uplift_score']\n",
        "  \n",
        "  # Add proportion\n",
        "  ranked['n'] = ranked.uplift_score.rank(pct = True, ascending = False)\n",
        "\n",
        "  ranked = ranked.sort_values(by = 'n').reset_index(drop=True)\n",
        "  return ranked"
      ],
      "execution_count": null,
      "outputs": []
    },
    {
      "cell_type": "code",
      "metadata": {
        "id": "Ko_pxV2SFr19"
      },
      "source": [
        "def qini_eval(ranked: pd.DataFrame):\n",
        "  \"\"\" Evaluate the uplift value with the QINI criterion\"\"\"\n",
        "  uplift_model, random_model = ranked.copy(), ranked.copy()\n",
        "\n",
        "  # using treatment and control group to calculate the uplift(incremental gain)\n",
        "\n",
        "  C, T = sum(ranked['target_class'] <= 1), sum(ranked['target_class']>=2)\n",
        "  ranked['cr'] = 0\n",
        "  ranked['tr'] = 0\n",
        "  ranked.loc[ranked.target_class == 1, 'cr'] = 1\n",
        "  ranked.loc[ranked.target_class == 3, 'tr'] = 1\n",
        "  ranked['cr/c'] = ranked.cr.cumsum()/C\n",
        "  ranked['tr/t'] = ranked.tr.cumsum()/T\n",
        "\n",
        "  # calculate and put the uplift and random value into dataframe\n",
        "\n",
        "  uplift_model['uplift'] = round(ranked['tr/t'] - ranked['cr/c'], 5)\n",
        "  random_model['uplift'] = round(ranked['n']*uplift_model['uplift'].iloc[-1], 5)\n",
        "\n",
        "  # Add q0\n",
        "  q0 = pd.DataFrame({'n':0, 'uplift':0, 'target_class': None}, index =[0])\n",
        "  uplift_model = pd.concat([q0, uplift_model]).reset_index(drop = True)\n",
        "  random_model = pd.concat([q0, random_model]).reset_index(drop = True)  \n",
        "  # Add model name & concat\n",
        "  uplift_model['model'] = 'Uplift model'\n",
        "  random_model['model'] = 'Random model'\n",
        "  merged = pd.concat([uplift_model, random_model]).sort_values(by='n').reset_index(drop = True)\n",
        "  return merged\n",
        "\n"
      ],
      "execution_count": null,
      "outputs": []
    },
    {
      "cell_type": "code",
      "metadata": {
        "id": "8MRdbwjFKzJg"
      },
      "source": [
        "def qini_plot(merged:pd.DataFrame):\n",
        "    \"\"\"Plot the QINI\n",
        "    \"\"\"\n",
        "    # plot the data\n",
        "    ax = sns.lineplot(x='n', y='uplift', hue='model', data=merged,\n",
        "                      style='model', palette=['red','grey'])\n",
        "    # Plot settings\n",
        "    sns.set_style('whitegrid')\n",
        "    handles, labels = ax.get_legend_handles_labels()\n",
        "    plt.xlabel('Proportion targeted',fontsize=15)\n",
        "    plt.ylabel('Uplift',fontsize=15)\n",
        "    plt.subplots_adjust(right=1)\n",
        "    plt.subplots_adjust(top=1)\n",
        "    plt.legend(fontsize=12)\n",
        "    ax.tick_params(labelsize=15)\n",
        "    ax.legend(handles=handles[1:], labels=labels[1:], loc='upper right')\n",
        "    return ax"
      ],
      "execution_count": null,
      "outputs": []
    },
    {
      "cell_type": "code",
      "metadata": {
        "id": "pI47PpIKK2ck"
      },
      "source": [
        "def qini(uplift:pd.DataFrame):\n",
        "    \"\"\"Combine all functions\n",
        "    \"\"\"\n",
        "    ranked = qini_rank(uplift)\n",
        "    merged = qini_eval(ranked)\n",
        "    ax = qini_plot(merged)\n",
        "    return ax"
      ],
      "execution_count": null,
      "outputs": []
    },
    {
      "cell_type": "code",
      "metadata": {
        "colab": {
          "base_uri": "https://localhost:8080/",
          "height": 363
        },
        "id": "bWJgkalJK8MW",
        "outputId": "f75ef1c8-6fe2-43d5-9edc-4c1cc5d70bb2"
      },
      "source": [
        "# plot the Qini curve for BOGO treatment\n",
        "qini(bogo_uplift)\n",
        "plt.title('Qini Curve - Buy One Get One',fontsize=20)"
      ],
      "execution_count": null,
      "outputs": [
        {
          "output_type": "execute_result",
          "data": {
            "text/plain": [
              "Text(0.5, 1.0, 'Qini Curve - Buy One Get One')"
            ]
          },
          "metadata": {},
          "execution_count": 84
        },
        {
          "output_type": "display_data",
          "data": {
            "image/png": "[encoded data removed]",
            "text/plain": [
              "<Figure size 432x288 with 1 Axes>"
            ]
          },
          "metadata": {
            "needs_background": "light"
          }
        }
      ]
    },
    {
      "cell_type": "code",
      "metadata": {
        "colab": {
          "base_uri": "https://localhost:8080/",
          "height": 363
        },
        "id": "EPiItrOhK_Hm",
        "outputId": "a5bd54ef-c768-46d0-82de-9824cd5043ca"
      },
      "source": [
        "# plot the Qini curve for Discount treatment\n",
        "qini(discount_uplift)\n",
        "plt.title('Qini Curve - Discount',fontsize=20)"
      ],
      "execution_count": null,
      "outputs": [
        {
          "output_type": "execute_result",
          "data": {
            "text/plain": [
              "Text(0.5, 1.0, 'Qini Curve - Discount')"
            ]
          },
          "metadata": {},
          "execution_count": 85
        },
        {
          "output_type": "display_data",
          "data": {
            "image/png": "[encoded data removed]",
            "text/plain": [
              "<Figure size 432x288 with 1 Axes>"
            ]
          },
          "metadata": {}
        }
      ]
    }
  ]
}